{
  "nbformat": 4,
  "nbformat_minor": 0,
  "metadata": {
    "colab": {
      "name": "lesson3_homework.ipynb",
      "version": "0.3.2",
      "provenance": [],
      "collapsed_sections": [],
      "include_colab_link": true
    },
    "kernelspec": {
      "name": "python3",
      "display_name": "Python 3"
    },
    "accelerator": "GPU"
  },
  "cells": [
    {
      "cell_type": "markdown",
      "metadata": {
        "id": "view-in-github",
        "colab_type": "text"
      },
      "source": [
        "<a href=\"https://colab.research.google.com/github/solpaul/CourseProject1/blob/master/lesson3_homework.ipynb\" target=\"_parent\"><img src=\"https://colab.research.google.com/assets/colab-badge.svg\" alt=\"Open In Colab\"/></a>"
      ]
    },
    {
      "cell_type": "markdown",
      "metadata": {
        "id": "kLY8tpkP7VxO",
        "colab_type": "text"
      },
      "source": [
        "# IMDB"
      ]
    },
    {
      "cell_type": "code",
      "metadata": {
        "id": "MGX6t7Si7n7C",
        "colab_type": "code",
        "outputId": "8f10fb61-6518-4570-f2d0-6cdad33695e6",
        "colab": {
          "base_uri": "https://localhost:8080/",
          "height": 54
        }
      },
      "source": [
        "!curl -s https://course.fast.ai/setup/colab | bash"
      ],
      "execution_count": 0,
      "outputs": [
        {
          "output_type": "stream",
          "text": [
            "Updating fastai...\n",
            "Done.\n"
          ],
          "name": "stdout"
        }
      ]
    },
    {
      "cell_type": "code",
      "metadata": {
        "id": "MaKMyKBA7VxS",
        "colab_type": "code",
        "colab": {}
      },
      "source": [
        "%reload_ext autoreload\n",
        "%autoreload 2\n",
        "%matplotlib inline"
      ],
      "execution_count": 0,
      "outputs": []
    },
    {
      "cell_type": "code",
      "metadata": {
        "id": "W2hbyWGY7VxY",
        "colab_type": "code",
        "colab": {}
      },
      "source": [
        "from fastai.text import *\n",
        "import pandas as pd\n",
        "import re"
      ],
      "execution_count": 0,
      "outputs": []
    },
    {
      "cell_type": "code",
      "metadata": {
        "id": "yx8oqWID8oNu",
        "colab_type": "code",
        "outputId": "e5f50341-6eb8-41fa-b2f2-2060ab848a89",
        "colab": {
          "base_uri": "https://localhost:8080/",
          "height": 35
        }
      },
      "source": [
        "from google.colab import drive\n",
        "drive.mount('/content/gdrive', force_remount=True)\n",
        "root_dir = \"/content/gdrive/My Drive/\"\n",
        "base_dir = root_dir + 'fastai-v3/'"
      ],
      "execution_count": 0,
      "outputs": [
        {
          "output_type": "stream",
          "text": [
            "Mounted at /content/gdrive\n"
          ],
          "name": "stdout"
        }
      ]
    },
    {
      "cell_type": "code",
      "metadata": {
        "id": "CZoE2tLd3Uif",
        "colab_type": "code",
        "colab": {}
      },
      "source": [
        "path = Path(base_dir + 'data/whatsapp')\n",
        "dest = path\n",
        "dest.mkdir(parents=True, exist_ok=True)"
      ],
      "execution_count": 0,
      "outputs": []
    },
    {
      "cell_type": "code",
      "metadata": {
        "id": "2YKit2WO4-dU",
        "colab_type": "code",
        "colab": {}
      },
      "source": [
        "def parse_file(text_file):\n",
        "    '''Convert WhatsApp chat log text file to a Pandas dataframe.'''\n",
        "    \n",
        "    # some regex to account for messages taking up multiple lines\n",
        "    pat = re.compile(r'^(\\d\\d\\/\\d\\d\\/\\d\\d\\d\\d.*?)(?=^^\\d\\d\\/\\d\\d\\/\\d\\d\\d\\d|\\Z)', re.S | re.M)\n",
        "    with open(text_file) as f:\n",
        "        data = [m.group(1).strip().replace('\\n', ' ') for m in pat.finditer(f.read())]\n",
        "\n",
        "    sender = []; message = []; datetime = []\n",
        "    for row in data:\n",
        "\n",
        "        # timestamp is before the first dash\n",
        "        datetime.append(row.split(' - ')[0])\n",
        "\n",
        "        # sender is between am/pm, dash and colon\n",
        "        try:\n",
        "            s = re.search(' - (.*?):', row).group(1)\n",
        "            sender.append(s)\n",
        "        except:\n",
        "            sender.append('')\n",
        "\n",
        "        # message content is after the first colon\n",
        "        try:\n",
        "            message.append(row.split(': ', 1)[1])\n",
        "        except:\n",
        "            message.append('')\n",
        "\n",
        "    df = pd.DataFrame(zip(datetime, sender, message), columns=['timestamp', 'sender', 'text'])\n",
        "    df['timestamp'] = pd.to_datetime(df.timestamp, format='%d/%m/%Y, %H:%M')\n",
        "\n",
        "    # remove events not associated with a sender\n",
        "    df = df[df.sender != ''].reset_index(drop=True)\n",
        "    \n",
        "    return df"
      ],
      "execution_count": 0,
      "outputs": []
    },
    {
      "cell_type": "code",
      "metadata": {
        "id": "C30H4eEz5J7i",
        "colab_type": "code",
        "colab": {}
      },
      "source": [
        "df = parse_file(path/'april.txt')"
      ],
      "execution_count": 0,
      "outputs": []
    },
    {
      "cell_type": "code",
      "metadata": {
        "id": "Xymj8vmsAlI7",
        "colab_type": "code",
        "colab": {}
      },
      "source": [
        "#df[\"text\"] = df[\"sender\"] + ' ' + df[\"text\"]"
      ],
      "execution_count": 0,
      "outputs": []
    },
    {
      "cell_type": "code",
      "metadata": {
        "id": "TCsM7o79Bfw-",
        "colab_type": "code",
        "colab": {}
      },
      "source": [
        "df = df.resample('D', on='timestamp')['text'].transform(lambda x: '. '.join(x)).drop_duplicates().reset_index(drop=True)"
      ],
      "execution_count": 0,
      "outputs": []
    },
    {
      "cell_type": "code",
      "metadata": {
        "id": "thuf-TFtFCTn",
        "colab_type": "code",
        "outputId": "e9a04fb5-a38c-4f37-aa01-5d1779bdc21b",
        "colab": {
          "base_uri": "https://localhost:8080/",
          "height": 127
        }
      },
      "source": [
        "print(df[3000:3005])"
      ],
      "execution_count": 0,
      "outputs": [
        {
          "output_type": "stream",
          "text": [
            "               timestamp        sender                            text\n",
            "3000 2016-02-24 22:00:00  Paul Solomon                             Yes\n",
            "3001 2016-02-24 22:01:00  Paul Solomon  Shall I just come to the room?\n",
            "3002 2016-02-24 22:01:00    April Work                  Yeah it's 1110\n",
            "3003 2016-02-24 22:02:00    April Work               And I have 2 keys\n",
            "3004 2016-02-24 22:02:00  Paul Solomon                              Ok\n"
          ],
          "name": "stdout"
        }
      ]
    },
    {
      "cell_type": "code",
      "metadata": {
        "id": "qk6FczD4LMQ5",
        "colab_type": "code",
        "outputId": "e7452530-ac68-41b5-c35a-2a98cb0b026a",
        "colab": {
          "base_uri": "https://localhost:8080/",
          "height": 74
        }
      },
      "source": [
        "df.to_csv(path/'april_processed.csv', index=False)"
      ],
      "execution_count": 0,
      "outputs": [
        {
          "output_type": "stream",
          "text": [
            "/usr/local/lib/python3.6/dist-packages/ipykernel_launcher.py:1: FutureWarning: The signature of `Series.to_csv` was aligned to that of `DataFrame.to_csv`, and argument 'header' will change its default value from False to True: please pass an explicit value to suppress this warning.\n",
            "  \"\"\"Entry point for launching an IPython kernel.\n"
          ],
          "name": "stderr"
        }
      ]
    },
    {
      "cell_type": "code",
      "metadata": {
        "id": "160FBa4XHZ9a",
        "colab_type": "code",
        "colab": {}
      },
      "source": [
        "bs=48"
      ],
      "execution_count": 0,
      "outputs": []
    },
    {
      "cell_type": "code",
      "metadata": {
        "id": "x1TvRDwtBCNg",
        "colab_type": "code",
        "colab": {}
      },
      "source": [
        "data_lm = (TextList.from_csv(path, 'april_processed.csv')\n",
        "           #Inputs: all the text files in path\n",
        "            .split_by_rand_pct(0.1)\n",
        "           #We randomly split and keep 10% (10,000 reviews) for validation\n",
        "            .label_for_lm()           \n",
        "           #We want to do a language model so we label accordingly\n",
        "            .databunch(bs=bs))\n",
        "data_lm.save('data_lm.pkl')"
      ],
      "execution_count": 0,
      "outputs": []
    },
    {
      "cell_type": "code",
      "metadata": {
        "id": "_jl8uNdJHnCB",
        "colab_type": "code",
        "colab": {}
      },
      "source": [
        "data_lm = load_data(path, 'data_lm.pkl', bs=bs)"
      ],
      "execution_count": 0,
      "outputs": []
    },
    {
      "cell_type": "code",
      "metadata": {
        "id": "Y8ajy5KyHoNT",
        "colab_type": "code",
        "outputId": "124de599-805f-47df-cf8c-36e25b6c292b",
        "colab": {
          "base_uri": "https://localhost:8080/",
          "height": 293
        }
      },
      "source": [
        "data_lm.show_batch()"
      ],
      "execution_count": 0,
      "outputs": [
        {
          "output_type": "display_data",
          "data": {
            "text/html": [
              "<table border=\"1\" class=\"dataframe\">\n",
              "  <thead>\n",
              "    <tr style=\"text-align: right;\">\n",
              "      <th>idx</th>\n",
              "      <th>text</th>\n",
              "    </tr>\n",
              "  </thead>\n",
              "  <tbody>\n",
              "    <tr>\n",
              "      <td>0</td>\n",
              "      <td>only have one drink . xxmaj how did it go today . xxmaj yes very good . xxmaj were people ok with you xxunk everything . i xxunk what happened . xxmaj ha . xxmaj good . xxmaj and they were fine ? . xxmaj they 're probably pissed off back at the office . xxmaj yes it was fine . xxmaj oh . xxmaj ok i 'll see you</td>\n",
              "    </tr>\n",
              "    <tr>\n",
              "      <td>1</td>\n",
              "      <td>on was that i got an xxunk seat . xxmaj would have had a middle seat otherwise . xxmaj perfect planning . p xxrep 4 f . i 'm going to buy food on the plane . i would have had a heart attack by now if i was you . xxmaj had to go straight to the gate so did n't get anything . xxmaj why were you late</td>\n",
              "    </tr>\n",
              "    <tr>\n",
              "      <td>2</td>\n",
              "      <td>guy that xxunk at the airport . xxmaj no they 'll stop me at xxmaj gatwick . xxmaj they scan xxunk at the gate . xxmaj the online system is in xxunk though . xxmaj xxunk it 's being tested . xxmaj so who knows , maybe i 'm lucky . xxmaj so do you still need to get a new passport ? . xxmaj yes i 've got another</td>\n",
              "    </tr>\n",
              "    <tr>\n",
              "      <td>3</td>\n",
              "      <td>. i 'm at malden manor xxbos xxmaj errr hello . xxmaj you have n't contacted me all day . xxmaj can you still make the train at 5:47pm . xxmaj oh sorry . xxmaj yes i 'll make the 5:47 . xxmaj ok . i 'm here xxbos xxmaj are you ok there . xxmaj come over xxbos i 'm xxunk to try this stuff on . xxmaj have</td>\n",
              "    </tr>\n",
              "    <tr>\n",
              "      <td>4</td>\n",
              "      <td>xxunk . xxmaj so we should go there . xxmaj yes i want to watch that . xxmaj and he likes it . xxmaj xxunk . xxmaj he said it xxunk . xxmaj but did n't make sense the first time he watched it . xxmaj second time he got it . i like that . xxmaj wow he really liked it . xxmaj yes he did . xxmaj what</td>\n",
              "    </tr>\n",
              "  </tbody>\n",
              "</table>"
            ],
            "text/plain": [
              "<IPython.core.display.HTML object>"
            ]
          },
          "metadata": {
            "tags": []
          }
        }
      ]
    },
    {
      "cell_type": "code",
      "metadata": {
        "id": "FZUM6WMEQwUA",
        "colab_type": "code",
        "colab": {}
      },
      "source": [
        "learn = language_model_learner(data_lm, AWD_LSTM, drop_mult=0.3)"
      ],
      "execution_count": 0,
      "outputs": []
    },
    {
      "cell_type": "code",
      "metadata": {
        "id": "Bd-0pQsTQ4yo",
        "colab_type": "code",
        "outputId": "5763a862-20f9-4915-c71a-2661319dcf6c",
        "colab": {
          "base_uri": "https://localhost:8080/",
          "height": 35
        }
      },
      "source": [
        "learn.lr_find()"
      ],
      "execution_count": 0,
      "outputs": [
        {
          "output_type": "display_data",
          "data": {
            "text/html": [
              ""
            ],
            "text/plain": [
              "<IPython.core.display.HTML object>"
            ]
          },
          "metadata": {
            "tags": []
          }
        },
        {
          "output_type": "stream",
          "text": [
            "LR Finder is complete, type {learner_name}.recorder.plot() to see the graph.\n"
          ],
          "name": "stdout"
        }
      ]
    },
    {
      "cell_type": "code",
      "metadata": {
        "id": "1w_m6gEWRACa",
        "colab_type": "code",
        "outputId": "f6073412-7d7e-4951-bc54-317a113bf4c3",
        "colab": {
          "base_uri": "https://localhost:8080/",
          "height": 283
        }
      },
      "source": [
        "learn.recorder.plot(skip_end=15)"
      ],
      "execution_count": 0,
      "outputs": [
        {
          "output_type": "display_data",
          "data": {
            "image/png": "[encoded data removed]",
            "text/plain": [
              "<Figure size 432x288 with 1 Axes>"
            ]
          },
          "metadata": {
            "tags": []
          }
        }
      ]
    },
    {
      "cell_type": "code",
      "metadata": {
        "id": "XYMO5bNFRG1r",
        "colab_type": "code",
        "outputId": "88a4acd2-59b3-407f-9c7c-545210854b30",
        "colab": {
          "base_uri": "https://localhost:8080/",
          "height": 81
        }
      },
      "source": [
        "learn.fit_one_cycle(1, 1e-2, moms=(0.8,0.7))"
      ],
      "execution_count": 0,
      "outputs": [
        {
          "output_type": "display_data",
          "data": {
            "text/html": [
              "<table border=\"1\" class=\"dataframe\">\n",
              "  <thead>\n",
              "    <tr style=\"text-align: left;\">\n",
              "      <th>epoch</th>\n",
              "      <th>train_loss</th>\n",
              "      <th>valid_loss</th>\n",
              "      <th>accuracy</th>\n",
              "      <th>time</th>\n",
              "    </tr>\n",
              "  </thead>\n",
              "  <tbody>\n",
              "    <tr>\n",
              "      <td>0</td>\n",
              "      <td>3.479389</td>\n",
              "      <td>3.065503</td>\n",
              "      <td>0.397718</td>\n",
              "      <td>00:11</td>\n",
              "    </tr>\n",
              "  </tbody>\n",
              "</table>"
            ],
            "text/plain": [
              "<IPython.core.display.HTML object>"
            ]
          },
          "metadata": {
            "tags": []
          }
        }
      ]
    },
    {
      "cell_type": "code",
      "metadata": {
        "id": "ISUwAEP5RPXf",
        "colab_type": "code",
        "colab": {}
      },
      "source": [
        "learn.unfreeze()"
      ],
      "execution_count": 0,
      "outputs": []
    },
    {
      "cell_type": "code",
      "metadata": {
        "id": "oGOyXxbgRQiX",
        "colab_type": "code",
        "outputId": "b1927568-9b1d-4281-d8cf-a701455cee9c",
        "colab": {
          "base_uri": "https://localhost:8080/",
          "height": 363
        }
      },
      "source": [
        "learn.fit_one_cycle(10, 1e-3, moms=(0.8,0.7))"
      ],
      "execution_count": 0,
      "outputs": [
        {
          "output_type": "display_data",
          "data": {
            "text/html": [
              "<table border=\"1\" class=\"dataframe\">\n",
              "  <thead>\n",
              "    <tr style=\"text-align: left;\">\n",
              "      <th>epoch</th>\n",
              "      <th>train_loss</th>\n",
              "      <th>valid_loss</th>\n",
              "      <th>accuracy</th>\n",
              "      <th>time</th>\n",
              "    </tr>\n",
              "  </thead>\n",
              "  <tbody>\n",
              "    <tr>\n",
              "      <td>0</td>\n",
              "      <td>3.074980</td>\n",
              "      <td>2.979878</td>\n",
              "      <td>0.407242</td>\n",
              "      <td>00:14</td>\n",
              "    </tr>\n",
              "    <tr>\n",
              "      <td>1</td>\n",
              "      <td>2.981348</td>\n",
              "      <td>2.878369</td>\n",
              "      <td>0.419511</td>\n",
              "      <td>00:14</td>\n",
              "    </tr>\n",
              "    <tr>\n",
              "      <td>2</td>\n",
              "      <td>2.864376</td>\n",
              "      <td>2.811772</td>\n",
              "      <td>0.425860</td>\n",
              "      <td>00:13</td>\n",
              "    </tr>\n",
              "    <tr>\n",
              "      <td>3</td>\n",
              "      <td>2.732771</td>\n",
              "      <td>2.769796</td>\n",
              "      <td>0.430324</td>\n",
              "      <td>00:13</td>\n",
              "    </tr>\n",
              "    <tr>\n",
              "      <td>4</td>\n",
              "      <td>2.603176</td>\n",
              "      <td>2.747737</td>\n",
              "      <td>0.432110</td>\n",
              "      <td>00:13</td>\n",
              "    </tr>\n",
              "    <tr>\n",
              "      <td>5</td>\n",
              "      <td>2.474990</td>\n",
              "      <td>2.747421</td>\n",
              "      <td>0.433399</td>\n",
              "      <td>00:13</td>\n",
              "    </tr>\n",
              "    <tr>\n",
              "      <td>6</td>\n",
              "      <td>2.371657</td>\n",
              "      <td>2.751906</td>\n",
              "      <td>0.433201</td>\n",
              "      <td>00:14</td>\n",
              "    </tr>\n",
              "    <tr>\n",
              "      <td>7</td>\n",
              "      <td>2.296485</td>\n",
              "      <td>2.760792</td>\n",
              "      <td>0.432970</td>\n",
              "      <td>00:14</td>\n",
              "    </tr>\n",
              "    <tr>\n",
              "      <td>8</td>\n",
              "      <td>2.230669</td>\n",
              "      <td>2.767833</td>\n",
              "      <td>0.433366</td>\n",
              "      <td>00:14</td>\n",
              "    </tr>\n",
              "    <tr>\n",
              "      <td>9</td>\n",
              "      <td>2.201564</td>\n",
              "      <td>2.770301</td>\n",
              "      <td>0.433995</td>\n",
              "      <td>00:13</td>\n",
              "    </tr>\n",
              "  </tbody>\n",
              "</table>"
            ],
            "text/plain": [
              "<IPython.core.display.HTML object>"
            ]
          },
          "metadata": {
            "tags": []
          }
        }
      ]
    },
    {
      "cell_type": "code",
      "metadata": {
        "id": "L8f6JMkxlBik",
        "colab_type": "code",
        "colab": {}
      },
      "source": [
        "learn.save('fine_tuned')"
      ],
      "execution_count": 0,
      "outputs": []
    },
    {
      "cell_type": "code",
      "metadata": {
        "id": "o5TKEKXWR5Mu",
        "colab_type": "code",
        "colab": {}
      },
      "source": [
        "TEXT = \"The\"\n",
        "N_WORDS = 100\n",
        "N_SENTENCES = 2"
      ],
      "execution_count": 0,
      "outputs": []
    },
    {
      "cell_type": "code",
      "metadata": {
        "id": "5L9PfLQdR65-",
        "colab_type": "code",
        "outputId": "9b9d51cc-9c91-48fa-8e34-49983179b946",
        "colab": {
          "base_uri": "https://localhost:8080/",
          "height": 74
        }
      },
      "source": [
        "print(\"\\n\".join(learn.predict(TEXT, N_WORDS, temperature=0.75) for _ in range(N_SENTENCES)))"
      ],
      "execution_count": 0,
      "outputs": [
        {
          "output_type": "stream",
          "text": [
            "The trains are going to look like they were .... But i 've got a big glass table . Ok . So good . Where are you ? . The back carriage . i 'll come to you . Do you want to come to Tooting . i 'm in Waterloo . Where are you . Car . Just picked up my pass . Coming . Can you get some tissue ? . i 'm getting the bottle . You can come and get me\n",
            "The best way with this guy is when i 'm the other 2 . You did n't say goodbye to me . i did n't say goodbye to you . Yes . You 're going to be back so late . It 's ok . How about you ? . i 'm at the flat . Oh . Well done . The train is delayed . Are you nearly here . Do n't be late . What are you doing . So late . Are you here .\n"
          ],
          "name": "stdout"
        }
      ]
    },
    {
      "cell_type": "code",
      "metadata": {
        "id": "LjSYQfzIleuU",
        "colab_type": "code",
        "colab": {}
      },
      "source": [
        ""
      ],
      "execution_count": 0,
      "outputs": []
    }
  ]
}